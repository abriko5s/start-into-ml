{
 "cells": [
  {
   "cell_type": "markdown",
   "id": "fff48dfc",
   "metadata": {
    "papermill": {
     "duration": 0.007514,
     "end_time": "2025-08-11T16:57:34.021426",
     "exception": false,
     "start_time": "2025-08-11T16:57:34.013912",
     "status": "completed"
    },
    "tags": []
   },
   "source": [
    "### 🐼Pandas"
   ]
  },
  {
   "cell_type": "markdown",
   "id": "4927292f",
   "metadata": {
    "papermill": {
     "duration": 0.005979,
     "end_time": "2025-08-11T16:57:34.033810",
     "exception": false,
     "start_time": "2025-08-11T16:57:34.027831",
     "status": "completed"
    },
    "tags": []
   },
   "source": [
    "Начнем погружение в data science с классики. В данной части домашней работы вы будете исследовать данные о пассажирах Титаника.\n",
    "\n",
    "https://www.kaggle.com/c/titanic/data"
   ]
  },
  {
   "cell_type": "markdown",
   "id": "ebeacfd4",
   "metadata": {
    "papermill": {
     "duration": 0.006565,
     "end_time": "2025-08-11T16:57:34.046501",
     "exception": false,
     "start_time": "2025-08-11T16:57:34.039936",
     "status": "completed"
    },
    "tags": []
   },
   "source": [
    "Вам требуется скачать данные и выполнить задания."
   ]
  },
  {
   "cell_type": "code",
   "execution_count": 1,
   "id": "b168baad",
   "metadata": {
    "execution": {
     "iopub.execute_input": "2025-08-11T16:57:34.059609Z",
     "iopub.status.busy": "2025-08-11T16:57:34.059376Z",
     "iopub.status.idle": "2025-08-11T16:57:35.357368Z",
     "shell.execute_reply": "2025-08-11T16:57:35.356808Z"
    },
    "papermill": {
     "duration": 1.306158,
     "end_time": "2025-08-11T16:57:35.358713",
     "exception": false,
     "start_time": "2025-08-11T16:57:34.052555",
     "status": "completed"
    },
    "tags": []
   },
   "outputs": [],
   "source": [
    "import pandas as pd"
   ]
  },
  {
   "cell_type": "markdown",
   "id": "0302584e",
   "metadata": {
    "papermill": {
     "duration": 0.006727,
     "end_time": "2025-08-11T16:57:35.372040",
     "exception": false,
     "start_time": "2025-08-11T16:57:35.365313",
     "status": "completed"
    },
    "tags": []
   },
   "source": [
    "✅ 1. Откройте в ноутбуке файл с данными (\"train.csv\") и выведите первые и последние 5 строк датафрейма"
   ]
  },
  {
   "cell_type": "code",
   "execution_count": 2,
   "id": "2a4f2175",
   "metadata": {
    "execution": {
     "iopub.execute_input": "2025-08-11T16:57:35.384997Z",
     "iopub.status.busy": "2025-08-11T16:57:35.384702Z",
     "iopub.status.idle": "2025-08-11T16:57:35.422561Z",
     "shell.execute_reply": "2025-08-11T16:57:35.421826Z"
    },
    "papermill": {
     "duration": 0.045469,
     "end_time": "2025-08-11T16:57:35.423577",
     "exception": false,
     "start_time": "2025-08-11T16:57:35.378108",
     "status": "completed"
    },
    "tags": []
   },
   "outputs": [
    {
     "name": "stderr",
     "output_type": "stream",
     "text": [
      "/usr/local/lib/python3.11/dist-packages/pandas/io/formats/format.py:1458: RuntimeWarning: invalid value encountered in greater\n",
      "  has_large_values = (abs_vals > 1e6).any()\n",
      "/usr/local/lib/python3.11/dist-packages/pandas/io/formats/format.py:1459: RuntimeWarning: invalid value encountered in less\n",
      "  has_small_values = ((abs_vals < 10 ** (-self.digits)) & (abs_vals > 0)).any()\n",
      "/usr/local/lib/python3.11/dist-packages/pandas/io/formats/format.py:1459: RuntimeWarning: invalid value encountered in greater\n",
      "  has_small_values = ((abs_vals < 10 ** (-self.digits)) & (abs_vals > 0)).any()\n"
     ]
    },
    {
     "data": {
      "text/html": [
       "<div>\n",
       "<style scoped>\n",
       "    .dataframe tbody tr th:only-of-type {\n",
       "        vertical-align: middle;\n",
       "    }\n",
       "\n",
       "    .dataframe tbody tr th {\n",
       "        vertical-align: top;\n",
       "    }\n",
       "\n",
       "    .dataframe thead th {\n",
       "        text-align: right;\n",
       "    }\n",
       "</style>\n",
       "<table border=\"1\" class=\"dataframe\">\n",
       "  <thead>\n",
       "    <tr style=\"text-align: right;\">\n",
       "      <th></th>\n",
       "      <th>PassengerId</th>\n",
       "      <th>Survived</th>\n",
       "      <th>Pclass</th>\n",
       "      <th>Name</th>\n",
       "      <th>Sex</th>\n",
       "      <th>Age</th>\n",
       "      <th>SibSp</th>\n",
       "      <th>Parch</th>\n",
       "      <th>Ticket</th>\n",
       "      <th>Fare</th>\n",
       "      <th>Cabin</th>\n",
       "      <th>Embarked</th>\n",
       "    </tr>\n",
       "  </thead>\n",
       "  <tbody>\n",
       "    <tr>\n",
       "      <th>0</th>\n",
       "      <td>1</td>\n",
       "      <td>0</td>\n",
       "      <td>3</td>\n",
       "      <td>Braund, Mr. Owen Harris</td>\n",
       "      <td>male</td>\n",
       "      <td>22.0</td>\n",
       "      <td>1</td>\n",
       "      <td>0</td>\n",
       "      <td>A/5 21171</td>\n",
       "      <td>7.2500</td>\n",
       "      <td>NaN</td>\n",
       "      <td>S</td>\n",
       "    </tr>\n",
       "    <tr>\n",
       "      <th>1</th>\n",
       "      <td>2</td>\n",
       "      <td>1</td>\n",
       "      <td>1</td>\n",
       "      <td>Cumings, Mrs. John Bradley (Florence Briggs Th...</td>\n",
       "      <td>female</td>\n",
       "      <td>38.0</td>\n",
       "      <td>1</td>\n",
       "      <td>0</td>\n",
       "      <td>PC 17599</td>\n",
       "      <td>71.2833</td>\n",
       "      <td>C85</td>\n",
       "      <td>C</td>\n",
       "    </tr>\n",
       "    <tr>\n",
       "      <th>2</th>\n",
       "      <td>3</td>\n",
       "      <td>1</td>\n",
       "      <td>3</td>\n",
       "      <td>Heikkinen, Miss. Laina</td>\n",
       "      <td>female</td>\n",
       "      <td>26.0</td>\n",
       "      <td>0</td>\n",
       "      <td>0</td>\n",
       "      <td>STON/O2. 3101282</td>\n",
       "      <td>7.9250</td>\n",
       "      <td>NaN</td>\n",
       "      <td>S</td>\n",
       "    </tr>\n",
       "    <tr>\n",
       "      <th>3</th>\n",
       "      <td>4</td>\n",
       "      <td>1</td>\n",
       "      <td>1</td>\n",
       "      <td>Futrelle, Mrs. Jacques Heath (Lily May Peel)</td>\n",
       "      <td>female</td>\n",
       "      <td>35.0</td>\n",
       "      <td>1</td>\n",
       "      <td>0</td>\n",
       "      <td>113803</td>\n",
       "      <td>53.1000</td>\n",
       "      <td>C123</td>\n",
       "      <td>S</td>\n",
       "    </tr>\n",
       "    <tr>\n",
       "      <th>4</th>\n",
       "      <td>5</td>\n",
       "      <td>0</td>\n",
       "      <td>3</td>\n",
       "      <td>Allen, Mr. William Henry</td>\n",
       "      <td>male</td>\n",
       "      <td>35.0</td>\n",
       "      <td>0</td>\n",
       "      <td>0</td>\n",
       "      <td>373450</td>\n",
       "      <td>8.0500</td>\n",
       "      <td>NaN</td>\n",
       "      <td>S</td>\n",
       "    </tr>\n",
       "    <tr>\n",
       "      <th>886</th>\n",
       "      <td>887</td>\n",
       "      <td>0</td>\n",
       "      <td>2</td>\n",
       "      <td>Montvila, Rev. Juozas</td>\n",
       "      <td>male</td>\n",
       "      <td>27.0</td>\n",
       "      <td>0</td>\n",
       "      <td>0</td>\n",
       "      <td>211536</td>\n",
       "      <td>13.0000</td>\n",
       "      <td>NaN</td>\n",
       "      <td>S</td>\n",
       "    </tr>\n",
       "    <tr>\n",
       "      <th>887</th>\n",
       "      <td>888</td>\n",
       "      <td>1</td>\n",
       "      <td>1</td>\n",
       "      <td>Graham, Miss. Margaret Edith</td>\n",
       "      <td>female</td>\n",
       "      <td>19.0</td>\n",
       "      <td>0</td>\n",
       "      <td>0</td>\n",
       "      <td>112053</td>\n",
       "      <td>30.0000</td>\n",
       "      <td>B42</td>\n",
       "      <td>S</td>\n",
       "    </tr>\n",
       "    <tr>\n",
       "      <th>888</th>\n",
       "      <td>889</td>\n",
       "      <td>0</td>\n",
       "      <td>3</td>\n",
       "      <td>Johnston, Miss. Catherine Helen \"Carrie\"</td>\n",
       "      <td>female</td>\n",
       "      <td>NaN</td>\n",
       "      <td>1</td>\n",
       "      <td>2</td>\n",
       "      <td>W./C. 6607</td>\n",
       "      <td>23.4500</td>\n",
       "      <td>NaN</td>\n",
       "      <td>S</td>\n",
       "    </tr>\n",
       "    <tr>\n",
       "      <th>889</th>\n",
       "      <td>890</td>\n",
       "      <td>1</td>\n",
       "      <td>1</td>\n",
       "      <td>Behr, Mr. Karl Howell</td>\n",
       "      <td>male</td>\n",
       "      <td>26.0</td>\n",
       "      <td>0</td>\n",
       "      <td>0</td>\n",
       "      <td>111369</td>\n",
       "      <td>30.0000</td>\n",
       "      <td>C148</td>\n",
       "      <td>C</td>\n",
       "    </tr>\n",
       "    <tr>\n",
       "      <th>890</th>\n",
       "      <td>891</td>\n",
       "      <td>0</td>\n",
       "      <td>3</td>\n",
       "      <td>Dooley, Mr. Patrick</td>\n",
       "      <td>male</td>\n",
       "      <td>32.0</td>\n",
       "      <td>0</td>\n",
       "      <td>0</td>\n",
       "      <td>370376</td>\n",
       "      <td>7.7500</td>\n",
       "      <td>NaN</td>\n",
       "      <td>Q</td>\n",
       "    </tr>\n",
       "  </tbody>\n",
       "</table>\n",
       "</div>"
      ],
      "text/plain": [
       "     PassengerId  Survived  Pclass  \\\n",
       "0              1         0       3   \n",
       "1              2         1       1   \n",
       "2              3         1       3   \n",
       "3              4         1       1   \n",
       "4              5         0       3   \n",
       "886          887         0       2   \n",
       "887          888         1       1   \n",
       "888          889         0       3   \n",
       "889          890         1       1   \n",
       "890          891         0       3   \n",
       "\n",
       "                                                  Name     Sex   Age  SibSp  \\\n",
       "0                              Braund, Mr. Owen Harris    male  22.0      1   \n",
       "1    Cumings, Mrs. John Bradley (Florence Briggs Th...  female  38.0      1   \n",
       "2                               Heikkinen, Miss. Laina  female  26.0      0   \n",
       "3         Futrelle, Mrs. Jacques Heath (Lily May Peel)  female  35.0      1   \n",
       "4                             Allen, Mr. William Henry    male  35.0      0   \n",
       "886                              Montvila, Rev. Juozas    male  27.0      0   \n",
       "887                       Graham, Miss. Margaret Edith  female  19.0      0   \n",
       "888           Johnston, Miss. Catherine Helen \"Carrie\"  female   NaN      1   \n",
       "889                              Behr, Mr. Karl Howell    male  26.0      0   \n",
       "890                                Dooley, Mr. Patrick    male  32.0      0   \n",
       "\n",
       "     Parch            Ticket     Fare Cabin Embarked  \n",
       "0        0         A/5 21171   7.2500   NaN        S  \n",
       "1        0          PC 17599  71.2833   C85        C  \n",
       "2        0  STON/O2. 3101282   7.9250   NaN        S  \n",
       "3        0            113803  53.1000  C123        S  \n",
       "4        0            373450   8.0500   NaN        S  \n",
       "886      0            211536  13.0000   NaN        S  \n",
       "887      0            112053  30.0000   B42        S  \n",
       "888      2        W./C. 6607  23.4500   NaN        S  \n",
       "889      0            111369  30.0000  C148        C  \n",
       "890      0            370376   7.7500   NaN        Q  "
      ]
     },
     "execution_count": 2,
     "metadata": {},
     "output_type": "execute_result"
    }
   ],
   "source": [
    "train = pd.read_csv('/kaggle/input/titanic/train.csv')\n",
    "pd.concat([train.head(5), train.tail(5)])"
   ]
  },
  {
   "cell_type": "markdown",
   "id": "569c3048",
   "metadata": {
    "papermill": {
     "duration": 0.006108,
     "end_time": "2025-08-11T16:57:35.436074",
     "exception": false,
     "start_time": "2025-08-11T16:57:35.429966",
     "status": "completed"
    },
    "tags": []
   },
   "source": [
    "✅ 2. Какой размер имеет датафрейм?"
   ]
  },
  {
   "cell_type": "code",
   "execution_count": 3,
   "id": "4bff0dd6",
   "metadata": {
    "execution": {
     "iopub.execute_input": "2025-08-11T16:57:35.449562Z",
     "iopub.status.busy": "2025-08-11T16:57:35.449361Z",
     "iopub.status.idle": "2025-08-11T16:57:35.453510Z",
     "shell.execute_reply": "2025-08-11T16:57:35.452836Z"
    },
    "papermill": {
     "duration": 0.012268,
     "end_time": "2025-08-11T16:57:35.454609",
     "exception": false,
     "start_time": "2025-08-11T16:57:35.442341",
     "status": "completed"
    },
    "tags": []
   },
   "outputs": [
    {
     "data": {
      "text/plain": [
       "(891, 12)"
      ]
     },
     "execution_count": 3,
     "metadata": {},
     "output_type": "execute_result"
    }
   ],
   "source": [
    "train.shape"
   ]
  },
  {
   "cell_type": "markdown",
   "id": "72beec07",
   "metadata": {
    "papermill": {
     "duration": 0.006801,
     "end_time": "2025-08-11T16:57:35.467808",
     "exception": false,
     "start_time": "2025-08-11T16:57:35.461007",
     "status": "completed"
    },
    "tags": []
   },
   "source": [
    "✅ 3. Для каждого из признаков укажите его тип (вещественный, категориальный, порядковый, другое). Придумайте три задачи, которые можно было бы решать для данного датасета — задачу регрессии, задачу классификации и задачу кластеризации."
   ]
  },
  {
   "cell_type": "code",
   "execution_count": 4,
   "id": "fec1709e",
   "metadata": {
    "execution": {
     "iopub.execute_input": "2025-08-11T16:57:35.482395Z",
     "iopub.status.busy": "2025-08-11T16:57:35.482156Z",
     "iopub.status.idle": "2025-08-11T16:57:35.499919Z",
     "shell.execute_reply": "2025-08-11T16:57:35.499356Z"
    },
    "papermill": {
     "duration": 0.025429,
     "end_time": "2025-08-11T16:57:35.500859",
     "exception": false,
     "start_time": "2025-08-11T16:57:35.475430",
     "status": "completed"
    },
    "tags": []
   },
   "outputs": [
    {
     "name": "stdout",
     "output_type": "stream",
     "text": [
      "<class 'pandas.core.frame.DataFrame'>\n",
      "RangeIndex: 891 entries, 0 to 890\n",
      "Data columns (total 12 columns):\n",
      " #   Column       Non-Null Count  Dtype  \n",
      "---  ------       --------------  -----  \n",
      " 0   PassengerId  891 non-null    int64  \n",
      " 1   Survived     891 non-null    int64  \n",
      " 2   Pclass       891 non-null    int64  \n",
      " 3   Name         891 non-null    object \n",
      " 4   Sex          891 non-null    object \n",
      " 5   Age          714 non-null    float64\n",
      " 6   SibSp        891 non-null    int64  \n",
      " 7   Parch        891 non-null    int64  \n",
      " 8   Ticket       891 non-null    object \n",
      " 9   Fare         891 non-null    float64\n",
      " 10  Cabin        204 non-null    object \n",
      " 11  Embarked     889 non-null    object \n",
      "dtypes: float64(2), int64(5), object(5)\n",
      "memory usage: 83.7+ KB\n"
     ]
    }
   ],
   "source": [
    "train.info()"
   ]
  },
  {
   "cell_type": "markdown",
   "id": "18e72c53",
   "metadata": {
    "papermill": {
     "duration": 0.006204,
     "end_time": "2025-08-11T16:57:35.513458",
     "exception": false,
     "start_time": "2025-08-11T16:57:35.507254",
     "status": "completed"
    },
    "tags": []
   },
   "source": [
    "Survived -- категориальный\n",
    "\n",
    "Pclass -- категориальный\n",
    "\n",
    "Name -- категориальный (можно отнести к \"другое\")\n",
    "\n",
    "Sex -- категориальный\n",
    "\n",
    "Age -- вещественный          \n",
    "\n",
    "SibSp -- вещественный         \n",
    "\n",
    "Parch -- вещественный\n",
    "\n",
    "Ticket -- другое\n",
    "\n",
    "Fare -- вещественный         \n",
    "\n",
    "Cabin -- категориальный     \n",
    "\n",
    "Embarked -- категориальный\n",
    "\n",
    "### Задачи для датасета:\n",
    "\n",
    "1. Так как из вещественных переменных, которые могут быть интересны для предсказания, есть только Fare, то можно сформулировать задачу предсказания цены билета (таргет -- Fare)\n",
    "2. Можно построить модель бинарной классификации для предсказания вероятности выживания пассажиров (таргет -- Survived)\n",
    "3. Кластеризация -- найти группы возрастов людей которые с большей вероятностью выжили"
   ]
  },
  {
   "cell_type": "markdown",
   "id": "f46d6eea",
   "metadata": {
    "papermill": {
     "duration": 0.006224,
     "end_time": "2025-08-11T16:57:35.526009",
     "exception": false,
     "start_time": "2025-08-11T16:57:35.519785",
     "status": "completed"
    },
    "tags": []
   },
   "source": [
    "✅ 4. Какова доля выживших после крушения:\n",
    "    - всех пассажиров\n",
    "    - мужчин\n",
    "    - женщин?"
   ]
  },
  {
   "cell_type": "code",
   "execution_count": 5,
   "id": "cff3337b",
   "metadata": {
    "execution": {
     "iopub.execute_input": "2025-08-11T16:57:35.539799Z",
     "iopub.status.busy": "2025-08-11T16:57:35.539393Z",
     "iopub.status.idle": "2025-08-11T16:57:35.555957Z",
     "shell.execute_reply": "2025-08-11T16:57:35.555205Z"
    },
    "papermill": {
     "duration": 0.024679,
     "end_time": "2025-08-11T16:57:35.557090",
     "exception": false,
     "start_time": "2025-08-11T16:57:35.532411",
     "status": "completed"
    },
    "tags": []
   },
   "outputs": [
    {
     "name": "stdout",
     "output_type": "stream",
     "text": [
      "survived: 0.3838383838383838\n",
      "------------------------------\n",
      "male: 0.18890814558058924\n",
      "------------------------------\n",
      "female: 0.7420382165605095\n"
     ]
    }
   ],
   "source": [
    "print('survived:', (train[(train['Survived'] == 1)].count()/train.count())['Survived'])\n",
    "print('-'*30)\n",
    "print('male:', (train[(train['Sex'] == 'male') & (train['Survived'])].count()/train[train['Sex'] == 'male'].count())['Survived'])\n",
    "print('-'*30)\n",
    "print('female:', (train[(train['Sex'] == 'female') & (train['Survived'])].count()/train[train['Sex'] == 'female'].count())['Survived'])"
   ]
  },
  {
   "cell_type": "markdown",
   "id": "79bfe0b2",
   "metadata": {
    "papermill": {
     "duration": 0.006139,
     "end_time": "2025-08-11T16:57:35.569671",
     "exception": false,
     "start_time": "2025-08-11T16:57:35.563532",
     "status": "completed"
    },
    "tags": []
   },
   "source": [
    "✅ 5. Сколько пассажиров ехало в каждом классе?"
   ]
  },
  {
   "cell_type": "code",
   "execution_count": 6,
   "id": "bc37820a",
   "metadata": {
    "execution": {
     "iopub.execute_input": "2025-08-11T16:57:35.583186Z",
     "iopub.status.busy": "2025-08-11T16:57:35.582964Z",
     "iopub.status.idle": "2025-08-11T16:57:35.588152Z",
     "shell.execute_reply": "2025-08-11T16:57:35.587672Z"
    },
    "papermill": {
     "duration": 0.013106,
     "end_time": "2025-08-11T16:57:35.589186",
     "exception": false,
     "start_time": "2025-08-11T16:57:35.576080",
     "status": "completed"
    },
    "tags": []
   },
   "outputs": [
    {
     "data": {
      "text/plain": [
       "Pclass\n",
       "1    216\n",
       "2    184\n",
       "3    491\n",
       "Name: PassengerId, dtype: int64"
      ]
     },
     "execution_count": 6,
     "metadata": {},
     "output_type": "execute_result"
    }
   ],
   "source": [
    "train.groupby(\"Pclass\")['PassengerId'].count()"
   ]
  },
  {
   "cell_type": "markdown",
   "id": "44de29ea",
   "metadata": {
    "papermill": {
     "duration": 0.006333,
     "end_time": "2025-08-11T16:57:35.643587",
     "exception": false,
     "start_time": "2025-08-11T16:57:35.637254",
     "status": "completed"
    },
    "tags": []
   },
   "source": [
    "✅ 6. Сколько в среднем пассажиры заплатили за проезд?"
   ]
  },
  {
   "cell_type": "code",
   "execution_count": 7,
   "id": "c45d5908",
   "metadata": {
    "execution": {
     "iopub.execute_input": "2025-08-11T16:57:35.657801Z",
     "iopub.status.busy": "2025-08-11T16:57:35.657193Z",
     "iopub.status.idle": "2025-08-11T16:57:35.662002Z",
     "shell.execute_reply": "2025-08-11T16:57:35.661351Z"
    },
    "papermill": {
     "duration": 0.013055,
     "end_time": "2025-08-11T16:57:35.663080",
     "exception": false,
     "start_time": "2025-08-11T16:57:35.650025",
     "status": "completed"
    },
    "tags": []
   },
   "outputs": [
    {
     "data": {
      "text/plain": [
       "32.204207968574636"
      ]
     },
     "execution_count": 7,
     "metadata": {},
     "output_type": "execute_result"
    }
   ],
   "source": [
    "train['Fare'].mean()"
   ]
  },
  {
   "cell_type": "markdown",
   "id": "03323e28",
   "metadata": {
    "papermill": {
     "duration": 0.006391,
     "end_time": "2025-08-11T16:57:35.676128",
     "exception": false,
     "start_time": "2025-08-11T16:57:35.669737",
     "status": "completed"
    },
    "tags": []
   },
   "source": [
    "✅ 7. Все ли признаки несут в себе полезную информацию?\n",
    "    - Избавьтесь от ненужных столбцов, опишите почему вы решили от них избавиться"
   ]
  },
  {
   "cell_type": "markdown",
   "id": "435789ab",
   "metadata": {
    "papermill": {
     "duration": 0.006321,
     "end_time": "2025-08-11T16:57:35.688968",
     "exception": false,
     "start_time": "2025-08-11T16:57:35.682647",
     "status": "completed"
    },
    "tags": []
   },
   "source": [
    "Убираем PassengerId, Name, Ticket, так как они не отражают никакой сути и бесполезны для анализа выживаемости пассажиров / других закономерностей"
   ]
  },
  {
   "cell_type": "code",
   "execution_count": 8,
   "id": "32a8a87c",
   "metadata": {
    "execution": {
     "iopub.execute_input": "2025-08-11T16:57:35.703192Z",
     "iopub.status.busy": "2025-08-11T16:57:35.702723Z",
     "iopub.status.idle": "2025-08-11T16:57:35.714836Z",
     "shell.execute_reply": "2025-08-11T16:57:35.714216Z"
    },
    "papermill": {
     "duration": 0.020074,
     "end_time": "2025-08-11T16:57:35.715817",
     "exception": false,
     "start_time": "2025-08-11T16:57:35.695743",
     "status": "completed"
    },
    "tags": []
   },
   "outputs": [
    {
     "name": "stderr",
     "output_type": "stream",
     "text": [
      "/usr/local/lib/python3.11/dist-packages/pandas/io/formats/format.py:1458: RuntimeWarning: invalid value encountered in greater\n",
      "  has_large_values = (abs_vals > 1e6).any()\n",
      "/usr/local/lib/python3.11/dist-packages/pandas/io/formats/format.py:1459: RuntimeWarning: invalid value encountered in less\n",
      "  has_small_values = ((abs_vals < 10 ** (-self.digits)) & (abs_vals > 0)).any()\n",
      "/usr/local/lib/python3.11/dist-packages/pandas/io/formats/format.py:1459: RuntimeWarning: invalid value encountered in greater\n",
      "  has_small_values = ((abs_vals < 10 ** (-self.digits)) & (abs_vals > 0)).any()\n"
     ]
    },
    {
     "data": {
      "text/html": [
       "<div>\n",
       "<style scoped>\n",
       "    .dataframe tbody tr th:only-of-type {\n",
       "        vertical-align: middle;\n",
       "    }\n",
       "\n",
       "    .dataframe tbody tr th {\n",
       "        vertical-align: top;\n",
       "    }\n",
       "\n",
       "    .dataframe thead th {\n",
       "        text-align: right;\n",
       "    }\n",
       "</style>\n",
       "<table border=\"1\" class=\"dataframe\">\n",
       "  <thead>\n",
       "    <tr style=\"text-align: right;\">\n",
       "      <th></th>\n",
       "      <th>Survived</th>\n",
       "      <th>Pclass</th>\n",
       "      <th>Sex</th>\n",
       "      <th>Age</th>\n",
       "      <th>SibSp</th>\n",
       "      <th>Parch</th>\n",
       "      <th>Fare</th>\n",
       "      <th>Cabin</th>\n",
       "      <th>Embarked</th>\n",
       "    </tr>\n",
       "  </thead>\n",
       "  <tbody>\n",
       "    <tr>\n",
       "      <th>0</th>\n",
       "      <td>0</td>\n",
       "      <td>3</td>\n",
       "      <td>male</td>\n",
       "      <td>22.0</td>\n",
       "      <td>1</td>\n",
       "      <td>0</td>\n",
       "      <td>7.2500</td>\n",
       "      <td>NaN</td>\n",
       "      <td>S</td>\n",
       "    </tr>\n",
       "    <tr>\n",
       "      <th>1</th>\n",
       "      <td>1</td>\n",
       "      <td>1</td>\n",
       "      <td>female</td>\n",
       "      <td>38.0</td>\n",
       "      <td>1</td>\n",
       "      <td>0</td>\n",
       "      <td>71.2833</td>\n",
       "      <td>C85</td>\n",
       "      <td>C</td>\n",
       "    </tr>\n",
       "    <tr>\n",
       "      <th>2</th>\n",
       "      <td>1</td>\n",
       "      <td>3</td>\n",
       "      <td>female</td>\n",
       "      <td>26.0</td>\n",
       "      <td>0</td>\n",
       "      <td>0</td>\n",
       "      <td>7.9250</td>\n",
       "      <td>NaN</td>\n",
       "      <td>S</td>\n",
       "    </tr>\n",
       "    <tr>\n",
       "      <th>3</th>\n",
       "      <td>1</td>\n",
       "      <td>1</td>\n",
       "      <td>female</td>\n",
       "      <td>35.0</td>\n",
       "      <td>1</td>\n",
       "      <td>0</td>\n",
       "      <td>53.1000</td>\n",
       "      <td>C123</td>\n",
       "      <td>S</td>\n",
       "    </tr>\n",
       "    <tr>\n",
       "      <th>4</th>\n",
       "      <td>0</td>\n",
       "      <td>3</td>\n",
       "      <td>male</td>\n",
       "      <td>35.0</td>\n",
       "      <td>0</td>\n",
       "      <td>0</td>\n",
       "      <td>8.0500</td>\n",
       "      <td>NaN</td>\n",
       "      <td>S</td>\n",
       "    </tr>\n",
       "    <tr>\n",
       "      <th>...</th>\n",
       "      <td>...</td>\n",
       "      <td>...</td>\n",
       "      <td>...</td>\n",
       "      <td>...</td>\n",
       "      <td>...</td>\n",
       "      <td>...</td>\n",
       "      <td>...</td>\n",
       "      <td>...</td>\n",
       "      <td>...</td>\n",
       "    </tr>\n",
       "    <tr>\n",
       "      <th>886</th>\n",
       "      <td>0</td>\n",
       "      <td>2</td>\n",
       "      <td>male</td>\n",
       "      <td>27.0</td>\n",
       "      <td>0</td>\n",
       "      <td>0</td>\n",
       "      <td>13.0000</td>\n",
       "      <td>NaN</td>\n",
       "      <td>S</td>\n",
       "    </tr>\n",
       "    <tr>\n",
       "      <th>887</th>\n",
       "      <td>1</td>\n",
       "      <td>1</td>\n",
       "      <td>female</td>\n",
       "      <td>19.0</td>\n",
       "      <td>0</td>\n",
       "      <td>0</td>\n",
       "      <td>30.0000</td>\n",
       "      <td>B42</td>\n",
       "      <td>S</td>\n",
       "    </tr>\n",
       "    <tr>\n",
       "      <th>888</th>\n",
       "      <td>0</td>\n",
       "      <td>3</td>\n",
       "      <td>female</td>\n",
       "      <td>NaN</td>\n",
       "      <td>1</td>\n",
       "      <td>2</td>\n",
       "      <td>23.4500</td>\n",
       "      <td>NaN</td>\n",
       "      <td>S</td>\n",
       "    </tr>\n",
       "    <tr>\n",
       "      <th>889</th>\n",
       "      <td>1</td>\n",
       "      <td>1</td>\n",
       "      <td>male</td>\n",
       "      <td>26.0</td>\n",
       "      <td>0</td>\n",
       "      <td>0</td>\n",
       "      <td>30.0000</td>\n",
       "      <td>C148</td>\n",
       "      <td>C</td>\n",
       "    </tr>\n",
       "    <tr>\n",
       "      <th>890</th>\n",
       "      <td>0</td>\n",
       "      <td>3</td>\n",
       "      <td>male</td>\n",
       "      <td>32.0</td>\n",
       "      <td>0</td>\n",
       "      <td>0</td>\n",
       "      <td>7.7500</td>\n",
       "      <td>NaN</td>\n",
       "      <td>Q</td>\n",
       "    </tr>\n",
       "  </tbody>\n",
       "</table>\n",
       "<p>891 rows × 9 columns</p>\n",
       "</div>"
      ],
      "text/plain": [
       "     Survived  Pclass     Sex   Age  SibSp  Parch     Fare Cabin Embarked\n",
       "0           0       3    male  22.0      1      0   7.2500   NaN        S\n",
       "1           1       1  female  38.0      1      0  71.2833   C85        C\n",
       "2           1       3  female  26.0      0      0   7.9250   NaN        S\n",
       "3           1       1  female  35.0      1      0  53.1000  C123        S\n",
       "4           0       3    male  35.0      0      0   8.0500   NaN        S\n",
       "..        ...     ...     ...   ...    ...    ...      ...   ...      ...\n",
       "886         0       2    male  27.0      0      0  13.0000   NaN        S\n",
       "887         1       1  female  19.0      0      0  30.0000   B42        S\n",
       "888         0       3  female   NaN      1      2  23.4500   NaN        S\n",
       "889         1       1    male  26.0      0      0  30.0000  C148        C\n",
       "890         0       3    male  32.0      0      0   7.7500   NaN        Q\n",
       "\n",
       "[891 rows x 9 columns]"
      ]
     },
     "execution_count": 8,
     "metadata": {},
     "output_type": "execute_result"
    }
   ],
   "source": [
    "train = train.drop(['PassengerId', 'Name', 'Ticket'], axis=1)\n",
    "train"
   ]
  },
  {
   "cell_type": "markdown",
   "id": "96dcf651",
   "metadata": {
    "papermill": {
     "duration": 0.006589,
     "end_time": "2025-08-11T16:57:35.729286",
     "exception": false,
     "start_time": "2025-08-11T16:57:35.722697",
     "status": "completed"
    },
    "tags": []
   },
   "source": [
    "✅ 8. Есть ли в данных пропуски? В каких столбцах: сколько пропусков в каждом из них?"
   ]
  },
  {
   "cell_type": "code",
   "execution_count": 9,
   "id": "39d97739",
   "metadata": {
    "execution": {
     "iopub.execute_input": "2025-08-11T16:57:35.743453Z",
     "iopub.status.busy": "2025-08-11T16:57:35.743253Z",
     "iopub.status.idle": "2025-08-11T16:57:37.701219Z",
     "shell.execute_reply": "2025-08-11T16:57:37.700504Z"
    },
    "papermill": {
     "duration": 1.966459,
     "end_time": "2025-08-11T16:57:37.702454",
     "exception": false,
     "start_time": "2025-08-11T16:57:35.735995",
     "status": "completed"
    },
    "tags": []
   },
   "outputs": [
    {
     "data": {
      "text/plain": [
       "<Axes: >"
      ]
     },
     "execution_count": 9,
     "metadata": {},
     "output_type": "execute_result"
    },
    {
     "data": {
      "image/png": "[encoded data removed]",
      "text/plain": [
       "<Figure size 2500x1000 with 2 Axes>"
      ]
     },
     "metadata": {},
     "output_type": "display_data"
    }
   ],
   "source": [
    "import missingno as msno\n",
    "msno.matrix(train)"
   ]
  },
  {
   "cell_type": "code",
   "execution_count": 10,
   "id": "862dc75f",
   "metadata": {
    "execution": {
     "iopub.execute_input": "2025-08-11T16:57:37.720916Z",
     "iopub.status.busy": "2025-08-11T16:57:37.720271Z",
     "iopub.status.idle": "2025-08-11T16:57:37.726364Z",
     "shell.execute_reply": "2025-08-11T16:57:37.725691Z"
    },
    "papermill": {
     "duration": 0.016069,
     "end_time": "2025-08-11T16:57:37.727558",
     "exception": false,
     "start_time": "2025-08-11T16:57:37.711489",
     "status": "completed"
    },
    "tags": []
   },
   "outputs": [
    {
     "data": {
      "text/plain": [
       "Survived      0\n",
       "Pclass        0\n",
       "Sex           0\n",
       "Age         177\n",
       "SibSp         0\n",
       "Parch         0\n",
       "Fare          0\n",
       "Cabin       687\n",
       "Embarked      2\n",
       "dtype: int64"
      ]
     },
     "execution_count": 10,
     "metadata": {},
     "output_type": "execute_result"
    }
   ],
   "source": [
    "train.isna().sum()"
   ]
  },
  {
   "cell_type": "markdown",
   "id": "9d12c45d",
   "metadata": {
    "papermill": {
     "duration": 0.008022,
     "end_time": "2025-08-11T16:57:37.743722",
     "exception": false,
     "start_time": "2025-08-11T16:57:37.735700",
     "status": "completed"
    },
    "tags": []
   },
   "source": [
    "✅ 9. Предположите каким значением стоит заполнить пропуски в каждом столбце в зависимости от его типа. Заполните пропуски и проверьте, что пропусков больше нет."
   ]
  },
  {
   "cell_type": "markdown",
   "id": "75a28062",
   "metadata": {
    "papermill": {
     "duration": 0.008079,
     "end_time": "2025-08-11T16:57:37.759887",
     "exception": false,
     "start_time": "2025-08-11T16:57:37.751808",
     "status": "completed"
    },
    "tags": []
   },
   "source": [
    "NaN'ы в Age можно заменить медианным возрастом пассажиров; В кабинах напишем \"Unknown\"; В случае Embarked можем поставить самый популярный вариант, либо вообще выбросить эти значения, ведь их всего два. Я выберу второй вариант "
   ]
  },
  {
   "cell_type": "code",
   "execution_count": 11,
   "id": "8674196f",
   "metadata": {
    "execution": {
     "iopub.execute_input": "2025-08-11T16:57:37.776861Z",
     "iopub.status.busy": "2025-08-11T16:57:37.776651Z",
     "iopub.status.idle": "2025-08-11T16:57:37.785384Z",
     "shell.execute_reply": "2025-08-11T16:57:37.784856Z"
    },
    "papermill": {
     "duration": 0.018294,
     "end_time": "2025-08-11T16:57:37.786353",
     "exception": false,
     "start_time": "2025-08-11T16:57:37.768059",
     "status": "completed"
    },
    "tags": []
   },
   "outputs": [
    {
     "data": {
      "text/plain": [
       "Survived    0\n",
       "Pclass      0\n",
       "Sex         0\n",
       "Age         0\n",
       "SibSp       0\n",
       "Parch       0\n",
       "Fare        0\n",
       "Cabin       0\n",
       "Embarked    0\n",
       "dtype: int64"
      ]
     },
     "execution_count": 11,
     "metadata": {},
     "output_type": "execute_result"
    }
   ],
   "source": [
    "value_to_fill = train['Age'].median()\n",
    "train['Age'] = train['Age'].fillna(value_to_fill)\n",
    "train['Cabin'] = train['Cabin'].fillna(\"Unknown\")\n",
    "train = train.dropna(subset=['Embarked'])\n",
    "\n",
    "train.isnull().sum()"
   ]
  },
  {
   "cell_type": "markdown",
   "id": "c42261d8",
   "metadata": {
    "papermill": {
     "duration": 0.008118,
     "end_time": "2025-08-11T16:57:37.802596",
     "exception": false,
     "start_time": "2025-08-11T16:57:37.794478",
     "status": "completed"
    },
    "tags": []
   },
   "source": [
    "✅ 10. Правда ли, что чаще выживали пассажиры с более дорогими билетами?"
   ]
  },
  {
   "cell_type": "code",
   "execution_count": 12,
   "id": "0a48f744",
   "metadata": {
    "execution": {
     "iopub.execute_input": "2025-08-11T16:57:37.820051Z",
     "iopub.status.busy": "2025-08-11T16:57:37.819852Z",
     "iopub.status.idle": "2025-08-11T16:57:37.825469Z",
     "shell.execute_reply": "2025-08-11T16:57:37.824843Z"
    },
    "papermill": {
     "duration": 0.015579,
     "end_time": "2025-08-11T16:57:37.826461",
     "exception": false,
     "start_time": "2025-08-11T16:57:37.810882",
     "status": "completed"
    },
    "tags": []
   },
   "outputs": [
    {
     "name": "stdout",
     "output_type": "stream",
     "text": [
      "48.21 22.12\n"
     ]
    }
   ],
   "source": [
    "print(train[train[\"Survived\"] == 1][\"Fare\"].mean().round(2), train[train[\"Survived\"] == 0][\"Fare\"].mean().round(2))"
   ]
  },
  {
   "cell_type": "markdown",
   "id": "f81c562f",
   "metadata": {
    "papermill": {
     "duration": 0.009703,
     "end_time": "2025-08-11T16:57:37.844319",
     "exception": false,
     "start_time": "2025-08-11T16:57:37.834616",
     "status": "completed"
    },
    "tags": []
   },
   "source": [
    "Как видим, это правда, средняя цена билета выжившего примерно в 2 раза больше, чем средняя цена билета погибшего"
   ]
  },
  {
   "cell_type": "markdown",
   "id": "cd0dc030",
   "metadata": {
    "papermill": {
     "duration": 0.008089,
     "end_time": "2025-08-11T16:57:37.860592",
     "exception": false,
     "start_time": "2025-08-11T16:57:37.852503",
     "status": "completed"
    },
    "tags": []
   },
   "source": [
    "✅ 11. Создание новых признаков (feature engineering) является одним из основных средств улучшения качества работы алгоритмов машинного обучения на этапе обработки данных. \n",
    " - Добавьте в таблицу столбец, который будет показывать, сколько родных плыло вместе с пассажиром на корабле, включая его самого.\n",
    " - Придумайте свой признак, который может быть полезен, и добавьте его в таблицу."
   ]
  },
  {
   "cell_type": "markdown",
   "id": "f8f0b60a",
   "metadata": {
    "papermill": {
     "duration": 0.008018,
     "end_time": "2025-08-11T16:57:37.876934",
     "exception": false,
     "start_time": "2025-08-11T16:57:37.868916",
     "status": "completed"
    },
    "tags": []
   },
   "source": [
    "При возможности собрать данные хорошим признаком было бы умение плавать, но используя только данные признаки можно придумать признак возрастной группы:\n",
    "\n",
    "##### 0 - 12 -- дети (Child)\n",
    "\n",
    "##### 13 - 17 -- подростки (Teen)\n",
    "\n",
    "##### 18 - 60 -- взрослые (Adult)\n",
    "\n",
    "##### 60+ -- пожилые (Elderly)"
   ]
  },
  {
   "cell_type": "code",
   "execution_count": 13,
   "id": "abfdc2c2",
   "metadata": {
    "execution": {
     "iopub.execute_input": "2025-08-11T16:57:37.893951Z",
     "iopub.status.busy": "2025-08-11T16:57:37.893772Z",
     "iopub.status.idle": "2025-08-11T16:57:37.896653Z",
     "shell.execute_reply": "2025-08-11T16:57:37.896130Z"
    },
    "papermill": {
     "duration": 0.012473,
     "end_time": "2025-08-11T16:57:37.897601",
     "exception": false,
     "start_time": "2025-08-11T16:57:37.885128",
     "status": "completed"
    },
    "tags": []
   },
   "outputs": [],
   "source": [
    "import numpy as np"
   ]
  },
  {
   "cell_type": "code",
   "execution_count": 14,
   "id": "7485b286",
   "metadata": {
    "execution": {
     "iopub.execute_input": "2025-08-11T16:57:37.914687Z",
     "iopub.status.busy": "2025-08-11T16:57:37.914522Z",
     "iopub.status.idle": "2025-08-11T16:57:37.921622Z",
     "shell.execute_reply": "2025-08-11T16:57:37.920841Z"
    },
    "papermill": {
     "duration": 0.016913,
     "end_time": "2025-08-11T16:57:37.922642",
     "exception": false,
     "start_time": "2025-08-11T16:57:37.905729",
     "status": "completed"
    },
    "tags": []
   },
   "outputs": [
    {
     "name": "stderr",
     "output_type": "stream",
     "text": [
      "/tmp/ipykernel_19/2039652070.py:1: SettingWithCopyWarning: \n",
      "A value is trying to be set on a copy of a slice from a DataFrame.\n",
      "Try using .loc[row_indexer,col_indexer] = value instead\n",
      "\n",
      "See the caveats in the documentation: https://pandas.pydata.org/pandas-docs/stable/user_guide/indexing.html#returning-a-view-versus-a-copy\n",
      "  train[\"FamMem\"] = train[\"SibSp\"] + train[\"Parch\"] + 1 # family members\n",
      "/tmp/ipykernel_19/2039652070.py:10: SettingWithCopyWarning: \n",
      "A value is trying to be set on a copy of a slice from a DataFrame.\n",
      "Try using .loc[row_indexer,col_indexer] = value instead\n",
      "\n",
      "See the caveats in the documentation: https://pandas.pydata.org/pandas-docs/stable/user_guide/indexing.html#returning-a-view-versus-a-copy\n",
      "  train['AgeGroup'] = np.select(conditions, labels, np.nan) # age groups\n"
     ]
    }
   ],
   "source": [
    "train[\"FamMem\"] = train[\"SibSp\"] + train[\"Parch\"] + 1 # family members\n",
    "\n",
    "conditions = [\n",
    "    train['Age'] < 12,\n",
    "    (train['Age'] >= 12) & (train['Age'] < 18),\n",
    "    (train['Age'] >= 18) & (train['Age'] < 60),\n",
    "    train['Age'] >= 60\n",
    "]\n",
    "labels = ['Child', 'Teen', 'Adult', 'Elderly']\n",
    "train['AgeGroup'] = np.select(conditions, labels, np.nan) # age groups\n"
   ]
  },
  {
   "cell_type": "markdown",
   "id": "ca4b2238",
   "metadata": {
    "papermill": {
     "duration": 0.008385,
     "end_time": "2025-08-11T16:57:37.939251",
     "exception": false,
     "start_time": "2025-08-11T16:57:37.930866",
     "status": "completed"
    },
    "tags": []
   },
   "source": [
    "✅ 12. Какая фамилия была самой популярной на корабле?)"
   ]
  },
  {
   "cell_type": "code",
   "execution_count": 15,
   "id": "4ae93080",
   "metadata": {
    "execution": {
     "iopub.execute_input": "2025-08-11T16:57:37.956718Z",
     "iopub.status.busy": "2025-08-11T16:57:37.956291Z",
     "iopub.status.idle": "2025-08-11T16:57:37.967147Z",
     "shell.execute_reply": "2025-08-11T16:57:37.966637Z"
    },
    "papermill": {
     "duration": 0.020718,
     "end_time": "2025-08-11T16:57:37.968240",
     "exception": false,
     "start_time": "2025-08-11T16:57:37.947522",
     "status": "completed"
    },
    "tags": []
   },
   "outputs": [
    {
     "data": {
      "text/plain": [
       "count           891\n",
       "unique          667\n",
       "top       Andersson\n",
       "freq              9\n",
       "Name: Name, dtype: object"
      ]
     },
     "execution_count": 15,
     "metadata": {},
     "output_type": "execute_result"
    }
   ],
   "source": [
    "df = pd.read_csv('/kaggle/input/titanic/train.csv')\n",
    "xd = df[\"Name\"].str.split(\",\").str.get(0).describe()\n",
    "xd"
   ]
  },
  {
   "cell_type": "code",
   "execution_count": 16,
   "id": "25ccd004",
   "metadata": {
    "execution": {
     "iopub.execute_input": "2025-08-11T16:57:37.985818Z",
     "iopub.status.busy": "2025-08-11T16:57:37.985647Z",
     "iopub.status.idle": "2025-08-11T16:57:37.989617Z",
     "shell.execute_reply": "2025-08-11T16:57:37.989144Z"
    },
    "papermill": {
     "duration": 0.013823,
     "end_time": "2025-08-11T16:57:37.990606",
     "exception": false,
     "start_time": "2025-08-11T16:57:37.976783",
     "status": "completed"
    },
    "tags": []
   },
   "outputs": [
    {
     "data": {
      "text/plain": [
       "'Andersson'"
      ]
     },
     "execution_count": 16,
     "metadata": {},
     "output_type": "execute_result"
    }
   ],
   "source": [
    "xd['top']"
   ]
  },
  {
   "cell_type": "markdown",
   "id": "4c16bf89",
   "metadata": {
    "papermill": {
     "duration": 0.008356,
     "end_time": "2025-08-11T16:57:38.007319",
     "exception": false,
     "start_time": "2025-08-11T16:57:37.998963",
     "status": "completed"
    },
    "tags": []
   },
   "source": [
    "### 📈Numpy "
   ]
  },
  {
   "cell_type": "code",
   "execution_count": 17,
   "id": "2dc3adde",
   "metadata": {
    "execution": {
     "iopub.execute_input": "2025-08-11T16:57:38.025286Z",
     "iopub.status.busy": "2025-08-11T16:57:38.024662Z",
     "iopub.status.idle": "2025-08-11T16:57:38.027752Z",
     "shell.execute_reply": "2025-08-11T16:57:38.027281Z"
    },
    "papermill": {
     "duration": 0.013073,
     "end_time": "2025-08-11T16:57:38.028770",
     "exception": false,
     "start_time": "2025-08-11T16:57:38.015697",
     "status": "completed"
    },
    "tags": []
   },
   "outputs": [],
   "source": [
    "import numpy as np"
   ]
  },
  {
   "cell_type": "markdown",
   "id": "3de22c82",
   "metadata": {
    "papermill": {
     "duration": 0.008438,
     "end_time": "2025-08-11T16:57:38.045644",
     "exception": false,
     "start_time": "2025-08-11T16:57:38.037206",
     "status": "completed"
    },
    "tags": []
   },
   "source": [
    "✅ 1. Напишите функцию, возвращающую округленную взвешенную сумму чисел по данным числам и весам к ним. "
   ]
  },
  {
   "cell_type": "code",
   "execution_count": 18,
   "id": "9a3a4947",
   "metadata": {
    "execution": {
     "iopub.execute_input": "2025-08-11T16:57:38.063910Z",
     "iopub.status.busy": "2025-08-11T16:57:38.063696Z",
     "iopub.status.idle": "2025-08-11T16:57:38.067155Z",
     "shell.execute_reply": "2025-08-11T16:57:38.066509Z"
    },
    "papermill": {
     "duration": 0.013767,
     "end_time": "2025-08-11T16:57:38.068320",
     "exception": false,
     "start_time": "2025-08-11T16:57:38.054553",
     "status": "completed"
    },
    "tags": []
   },
   "outputs": [],
   "source": [
    "def weighted_size_numbers(weights: np.array, marks: np.array) -> int:\n",
    "    # your code here\n",
    "    return sum(weights*marks).round()"
   ]
  },
  {
   "cell_type": "code",
   "execution_count": 19,
   "id": "7c544806",
   "metadata": {
    "execution": {
     "iopub.execute_input": "2025-08-11T16:57:38.086077Z",
     "iopub.status.busy": "2025-08-11T16:57:38.085893Z",
     "iopub.status.idle": "2025-08-11T16:57:38.089394Z",
     "shell.execute_reply": "2025-08-11T16:57:38.088886Z"
    },
    "papermill": {
     "duration": 0.013716,
     "end_time": "2025-08-11T16:57:38.090374",
     "exception": false,
     "start_time": "2025-08-11T16:57:38.076658",
     "status": "completed"
    },
    "tags": []
   },
   "outputs": [],
   "source": [
    "weights = np.array([0.3, 0.4, 0.2, 0.1])\n",
    "marks = np.array([7, 10, 8, 6])\n",
    "\n",
    "assert weighted_size_numbers(weights, marks) == 8"
   ]
  },
  {
   "cell_type": "code",
   "execution_count": 20,
   "id": "d14a267d",
   "metadata": {
    "execution": {
     "iopub.execute_input": "2025-08-11T16:57:38.107743Z",
     "iopub.status.busy": "2025-08-11T16:57:38.107576Z",
     "iopub.status.idle": "2025-08-11T16:57:38.110815Z",
     "shell.execute_reply": "2025-08-11T16:57:38.110386Z"
    },
    "papermill": {
     "duration": 0.01312,
     "end_time": "2025-08-11T16:57:38.111812",
     "exception": false,
     "start_time": "2025-08-11T16:57:38.098692",
     "status": "completed"
    },
    "tags": []
   },
   "outputs": [],
   "source": [
    "weights = np.array([0.3, 0.4, 0.2, 0.1])\n",
    "marks = np.array([7, 0, 8, 6])\n",
    "\n",
    "assert weighted_size_numbers(weights, marks) == 4"
   ]
  },
  {
   "cell_type": "markdown",
   "id": "4745a070",
   "metadata": {
    "papermill": {
     "duration": 0.008288,
     "end_time": "2025-08-11T16:57:38.128979",
     "exception": false,
     "start_time": "2025-08-11T16:57:38.120691",
     "status": "completed"
    },
    "tags": []
   },
   "source": [
    "✅ 2. Напишите функцию, выдающую индексы «близких» элементов заданных массивов, а именно тех пар элементов, чей модуль разницы не превосходит заданного значения. Например, если на вход поступают массив array([1.5, 0.5, 2, -4.1, -3, 6, -1]), массив array([1.2, 0.5, 1, -4, 3, 0, -1.2]) и число 0.5, то на выходе должен получиться массив array([0, 1, 3, 6])."
   ]
  },
  {
   "cell_type": "code",
   "execution_count": 21,
   "id": "33de8c60",
   "metadata": {
    "execution": {
     "iopub.execute_input": "2025-08-11T16:57:38.146372Z",
     "iopub.status.busy": "2025-08-11T16:57:38.146124Z",
     "iopub.status.idle": "2025-08-11T16:57:38.149938Z",
     "shell.execute_reply": "2025-08-11T16:57:38.149438Z"
    },
    "papermill": {
     "duration": 0.013662,
     "end_time": "2025-08-11T16:57:38.150984",
     "exception": false,
     "start_time": "2025-08-11T16:57:38.137322",
     "status": "completed"
    },
    "tags": []
   },
   "outputs": [],
   "source": [
    "def find_close(array1: np.array, array2: np.array, precision: float) -> np.array:\n",
    "    # your code here\n",
    "    return np.array([i for i in range(len(array1)) if abs(array1[i] - array2[i]) <= precision])\n",
    "    # or\n",
    "    # return np.arange(array1.size)[abs(array1-array2) <= precision]"
   ]
  },
  {
   "cell_type": "code",
   "execution_count": 22,
   "id": "511e0704",
   "metadata": {
    "execution": {
     "iopub.execute_input": "2025-08-11T16:57:38.170392Z",
     "iopub.status.busy": "2025-08-11T16:57:38.170153Z",
     "iopub.status.idle": "2025-08-11T16:57:38.174787Z",
     "shell.execute_reply": "2025-08-11T16:57:38.174177Z"
    },
    "papermill": {
     "duration": 0.016139,
     "end_time": "2025-08-11T16:57:38.175846",
     "exception": false,
     "start_time": "2025-08-11T16:57:38.159707",
     "status": "completed"
    },
    "tags": []
   },
   "outputs": [],
   "source": [
    "array1 = np.array([1.5, 0.5, 2, -4.1, -3, 6, -1])\n",
    "array2 = np.array([1.2, 0.5, 1, -4.0,  3, 0, -1.2])\n",
    "precision = 0.5\n",
    "res = find_close(array1, array2, precision)\n",
    "\n",
    "assert res.ndim == 1\n",
    "assert np.allclose(res, np.array([0, 1, 3, 6]))"
   ]
  },
  {
   "cell_type": "code",
   "execution_count": 23,
   "id": "d87c5142",
   "metadata": {
    "execution": {
     "iopub.execute_input": "2025-08-11T16:57:38.196749Z",
     "iopub.status.busy": "2025-08-11T16:57:38.196560Z",
     "iopub.status.idle": "2025-08-11T16:57:38.201123Z",
     "shell.execute_reply": "2025-08-11T16:57:38.200393Z"
    },
    "papermill": {
     "duration": 0.016155,
     "end_time": "2025-08-11T16:57:38.202359",
     "exception": false,
     "start_time": "2025-08-11T16:57:38.186204",
     "status": "completed"
    },
    "tags": []
   },
   "outputs": [],
   "source": [
    "array1 = np.array([3.1415, 2.7182, 1.6180, 6.6261])\n",
    "array2 = np.array([6.6730, 1.3807, -1,     6.0222])\n",
    "precision = 1.7\n",
    "res = find_close(array1, array2, precision)\n",
    "\n",
    "assert res.ndim == 1\n",
    "assert np.allclose(res, np.array([1, 3]))"
   ]
  },
  {
   "cell_type": "markdown",
   "id": "d20a0c6a",
   "metadata": {
    "papermill": {
     "duration": 0.009136,
     "end_time": "2025-08-11T16:57:38.220876",
     "exception": false,
     "start_time": "2025-08-11T16:57:38.211740",
     "status": "completed"
    },
    "tags": []
   },
   "source": [
    "✅ 3. Напишите функцию, вычисляющую произведение всех ненулевых диагональных элементов на диагонали данной квадратной матрицы. Например, если на вход поступает матрица\n",
    "$$\n",
    "\\begin{pmatrix}\n",
    "0 & 1 & 2\\\\\n",
    "3 & 4 & 5\\\\\n",
    "6 & 7 & 8\\\\\n",
    "\\end{pmatrix},\n",
    "$$\n",
    "то ответом будет 32.\n",
    "\n",
    "Элементы матрицы считать целочисленными."
   ]
  },
  {
   "cell_type": "code",
   "execution_count": 24,
   "id": "02a565b6",
   "metadata": {
    "execution": {
     "iopub.execute_input": "2025-08-11T16:57:38.240121Z",
     "iopub.status.busy": "2025-08-11T16:57:38.239912Z",
     "iopub.status.idle": "2025-08-11T16:57:38.243545Z",
     "shell.execute_reply": "2025-08-11T16:57:38.242802Z"
    },
    "papermill": {
     "duration": 0.014587,
     "end_time": "2025-08-11T16:57:38.244675",
     "exception": false,
     "start_time": "2025-08-11T16:57:38.230088",
     "status": "completed"
    },
    "tags": []
   },
   "outputs": [],
   "source": [
    "def diag_prod(matrix: np.array) -> int:\n",
    "    # your code here\n",
    "    res = matrix.diagonal()[matrix.diagonal() != 0].prod()\n",
    "    return res"
   ]
  },
  {
   "cell_type": "code",
   "execution_count": 25,
   "id": "62956560",
   "metadata": {
    "execution": {
     "iopub.execute_input": "2025-08-11T16:57:38.262430Z",
     "iopub.status.busy": "2025-08-11T16:57:38.262259Z",
     "iopub.status.idle": "2025-08-11T16:57:38.265865Z",
     "shell.execute_reply": "2025-08-11T16:57:38.265215Z"
    },
    "papermill": {
     "duration": 0.013755,
     "end_time": "2025-08-11T16:57:38.266858",
     "exception": false,
     "start_time": "2025-08-11T16:57:38.253103",
     "status": "completed"
    },
    "tags": []
   },
   "outputs": [],
   "source": [
    "matrix = np.array([[0, 1, 2, 3],\n",
    "                   [4, 5, 6, 7],\n",
    "                   [8, 9, 10, 11],\n",
    "                   [12, 13, 14, 15]])\n",
    "\n",
    "assert diag_prod(matrix) == 750"
   ]
  },
  {
   "cell_type": "markdown",
   "id": "018a1095",
   "metadata": {
    "papermill": {
     "duration": 0.008106,
     "end_time": "2025-08-11T16:57:38.283417",
     "exception": false,
     "start_time": "2025-08-11T16:57:38.275311",
     "status": "completed"
    },
    "tags": []
   },
   "source": [
    "✅ 4. Для улучшения качества работы некоторых алгоритмов машинного обучения может быть полезно использовать [нормализацию данных](https://vk.cc/8xmfQk), чтобы привести признаки в выборке к одному масштабу — а именно, из каждого столбца вычесть среднее его значений и поделить на их стандартное отклонение. Напишите функцию, нормализующую входящую матрицу (по столбцам). Помните, что в вашем матрице не должно получаться пустых значений nan. \n",
    "\n",
    "4* Подумайте, почему могли бы возникнуть пустые значения?)"
   ]
  },
  {
   "cell_type": "markdown",
   "id": "c477ffcf",
   "metadata": {
    "papermill": {
     "duration": 0.00824,
     "end_time": "2025-08-11T16:57:38.300001",
     "exception": false,
     "start_time": "2025-08-11T16:57:38.291761",
     "status": "completed"
    },
    "tags": []
   },
   "source": [
    "Из-за того что деление могло быть с целыми числами, поэтому лучше приведем всё в float"
   ]
  },
  {
   "cell_type": "code",
   "execution_count": 26,
   "id": "ef342144",
   "metadata": {
    "execution": {
     "iopub.execute_input": "2025-08-11T16:57:38.317483Z",
     "iopub.status.busy": "2025-08-11T16:57:38.317085Z",
     "iopub.status.idle": "2025-08-11T16:57:38.320743Z",
     "shell.execute_reply": "2025-08-11T16:57:38.320061Z"
    },
    "papermill": {
     "duration": 0.01355,
     "end_time": "2025-08-11T16:57:38.321883",
     "exception": false,
     "start_time": "2025-08-11T16:57:38.308333",
     "status": "completed"
    },
    "tags": []
   },
   "outputs": [],
   "source": [
    "def normalize(matrix: np.array) -> np.array:\n",
    "    #your code here \n",
    "    matrix = np.array(matrix, dtype='float')\n",
    "    return np.divide(matrix - np.mean(matrix, axis=0), np.std(matrix, axis = 0), out = np.zeros(matrix.shape))"
   ]
  },
  {
   "cell_type": "code",
   "execution_count": 27,
   "id": "8d75b5cd",
   "metadata": {
    "execution": {
     "iopub.execute_input": "2025-08-11T16:57:38.339365Z",
     "iopub.status.busy": "2025-08-11T16:57:38.339180Z",
     "iopub.status.idle": "2025-08-11T16:57:38.343050Z",
     "shell.execute_reply": "2025-08-11T16:57:38.342547Z"
    },
    "papermill": {
     "duration": 0.013667,
     "end_time": "2025-08-11T16:57:38.344007",
     "exception": false,
     "start_time": "2025-08-11T16:57:38.330340",
     "status": "completed"
    },
    "tags": []
   },
   "outputs": [],
   "source": [
    "matrix = np.array([[1, 4, 4200], [0, 10, 5000], [1, 2, 1000]])\n",
    "\n",
    "assert np.allclose(\n",
    "    normalize(matrix),\n",
    "    np.array([[ 0.7071, -0.39223,  0.46291],\n",
    "              [-1.4142,  1.37281,  0.92582],\n",
    "              [ 0.7071, -0.98058, -1.38873]])\n",
    ")"
   ]
  },
  {
   "cell_type": "code",
   "execution_count": 28,
   "id": "378f87d9",
   "metadata": {
    "execution": {
     "iopub.execute_input": "2025-08-11T16:57:38.361965Z",
     "iopub.status.busy": "2025-08-11T16:57:38.361787Z",
     "iopub.status.idle": "2025-08-11T16:57:38.365663Z",
     "shell.execute_reply": "2025-08-11T16:57:38.365146Z"
    },
    "papermill": {
     "duration": 0.014124,
     "end_time": "2025-08-11T16:57:38.366658",
     "exception": false,
     "start_time": "2025-08-11T16:57:38.352534",
     "status": "completed"
    },
    "tags": []
   },
   "outputs": [],
   "source": [
    "matrix = np.array([[-7, 2, 42], [2, 10, 50], [5, 4, 10]])\n",
    "\n",
    "assert np.allclose(\n",
    "    normalize(matrix),\n",
    "    np.array([[-1.37281, -0.98058,  0.46291],\n",
    "              [ 0.39223,  1.37281,  0.92582],\n",
    "              [ 0.98058, -0.39223, -1.38873]])\n",
    ")"
   ]
  },
  {
   "cell_type": "markdown",
   "id": "33a9956b",
   "metadata": {
    "papermill": {
     "duration": 0.008476,
     "end_time": "2025-08-11T16:57:38.383692",
     "exception": false,
     "start_time": "2025-08-11T16:57:38.375216",
     "status": "completed"
    },
    "tags": []
   },
   "source": [
    "✅ 5. Напишите функцию, вычисляющую косинусную близость двух векторов. Например, если на вход поступают вектора array([-2, 1, 0, -5, 4, 3, -3]) и array([0, 2, -2, 10, 6, 0, 0]), ответом будет -0.25."
   ]
  },
  {
   "cell_type": "code",
   "execution_count": 29,
   "id": "695e2df3",
   "metadata": {
    "execution": {
     "iopub.execute_input": "2025-08-11T16:57:38.401449Z",
     "iopub.status.busy": "2025-08-11T16:57:38.401014Z",
     "iopub.status.idle": "2025-08-11T16:57:38.404569Z",
     "shell.execute_reply": "2025-08-11T16:57:38.404060Z"
    },
    "papermill": {
     "duration": 0.013574,
     "end_time": "2025-08-11T16:57:38.405594",
     "exception": false,
     "start_time": "2025-08-11T16:57:38.392020",
     "status": "completed"
    },
    "tags": []
   },
   "outputs": [],
   "source": [
    "def cosine_similarity(vec1: np.array, vec2: np.array) -> float:\n",
    "    # yout code here\n",
    "    return np.divide(np.dot(vec1, vec2), abs((sum(vec1 ** 2) * sum(vec2 ** 2))**0.5))"
   ]
  },
  {
   "cell_type": "code",
   "execution_count": 30,
   "id": "809d40e9",
   "metadata": {
    "execution": {
     "iopub.execute_input": "2025-08-11T16:57:38.423123Z",
     "iopub.status.busy": "2025-08-11T16:57:38.422934Z",
     "iopub.status.idle": "2025-08-11T16:57:38.426653Z",
     "shell.execute_reply": "2025-08-11T16:57:38.426110Z"
    },
    "papermill": {
     "duration": 0.013606,
     "end_time": "2025-08-11T16:57:38.427606",
     "exception": false,
     "start_time": "2025-08-11T16:57:38.414000",
     "status": "completed"
    },
    "tags": []
   },
   "outputs": [],
   "source": [
    "vec1 = np.array([-2, 1,  0, -5, 4, 3, -3])\n",
    "vec2 = np.array([ 0, 2, -2, 10, 6, 0,  0])\n",
    "\n",
    "assert np.allclose(cosine_similarity(vec1, vec2), -0.25)"
   ]
  },
  {
   "cell_type": "code",
   "execution_count": 31,
   "id": "fc525cff",
   "metadata": {
    "execution": {
     "iopub.execute_input": "2025-08-11T16:57:38.445325Z",
     "iopub.status.busy": "2025-08-11T16:57:38.445122Z",
     "iopub.status.idle": "2025-08-11T16:57:38.448659Z",
     "shell.execute_reply": "2025-08-11T16:57:38.448140Z"
    },
    "papermill": {
     "duration": 0.013618,
     "end_time": "2025-08-11T16:57:38.449734",
     "exception": false,
     "start_time": "2025-08-11T16:57:38.436116",
     "status": "completed"
    },
    "tags": []
   },
   "outputs": [],
   "source": [
    "vec1 = np.array([-4, 2,  9, -8, 9, 0, -2])\n",
    "vec2 = np.array([ 3, 2, -4, -1, 3, 2,  2])\n",
    "\n",
    "assert np.allclose(cosine_similarity(vec1, vec2), -0.119929)"
   ]
  }
 ],
 "metadata": {
  "kaggle": {
   "accelerator": "nvidiaTeslaT4",
   "dataSources": [
    {
     "databundleVersionId": 26502,
     "sourceId": 3136,
     "sourceType": "competition"
    }
   ],
   "dockerImageVersionId": 31089,
   "isGpuEnabled": true,
   "isInternetEnabled": true,
   "language": "python",
   "sourceType": "notebook"
  },
  "kernelspec": {
   "display_name": "Python 3",
   "language": "python",
   "name": "python3"
  },
  "language_info": {
   "codemirror_mode": {
    "name": "ipython",
    "version": 3
   },
   "file_extension": ".py",
   "mimetype": "text/x-python",
   "name": "python",
   "nbconvert_exporter": "python",
   "pygments_lexer": "ipython3",
   "version": "3.11.13"
  },
  "papermill": {
   "default_parameters": {},
   "duration": 8.884353,
   "end_time": "2025-08-11T16:57:38.874911",
   "environment_variables": {},
   "exception": null,
   "input_path": "__notebook__.ipynb",
   "output_path": "__notebook__.ipynb",
   "parameters": {},
   "start_time": "2025-08-11T16:57:29.990558",
   "version": "2.6.0"
  }
 },
 "nbformat": 4,
 "nbformat_minor": 5
}
